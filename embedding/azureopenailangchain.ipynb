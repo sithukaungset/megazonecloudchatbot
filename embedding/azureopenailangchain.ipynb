{
 "cells": [
  {
   "cell_type": "code",
   "execution_count": null,
   "metadata": {},
   "outputs": [],
   "source": [
    "import openai\n",
    "import os\n",
    "from langchain.embeddings.openai import OpenAIEmbeddings\n",
    "# openai.api_key = '824fe43e851f4862af326fa83c3d3cfe'\n",
    "# openai.api_base =  'https://mtcaichat01.openai.azure.com' \n",
    "# openai.api_type = 'azure' # Necessary for using the OpenAI library with Azure OpenAI\n",
    "# openai.api_version = '2023-03-15-preview' # This likely will change with future releases\n",
    "\n",
    "os.environ[\"OPENAI_API_TYPE\"] = \"azure\"\n",
    "os.environ[\"OPENAI_API_BASE\"] = \"https://mtcaichat01.openai.azure.com\"\n",
    "os.environ[\"OPENAI_API_KEY\"] = \"824fe43e851f4862af326fa83c3d3cfe\"\n",
    "os.environ[\"OPENAI_API_VERSION\"] = \"2023-03-15-preview\"\n",
    "\n",
    "print(os.environ[\"OPENAI_API_TYPE\"])\n",
    "print(os.environ[\"OPENAI_API_BASE\"])\n",
    "print(os.environ[\"OPENAI_API_KEY\"])\n",
    "print(os.environ[\"OPENAI_API_VERSION\"])\n",
    "\n",
    "deployment_name = 'embeddingada002' # SDK calls this \"engine\", but naming\n",
    "\n"
   ]
  },
  {
   "cell_type": "code",
   "execution_count": null,
   "metadata": {},
   "outputs": [],
   "source": [
    "from langchain.text_splitter import CharacterTextSplitter\n",
    "\n",
    "with open('CauseAndEffectOfHomelessness.txt') as f:\n",
    "    text = f.read()\n",
    "\n",
    "text_splitter = CharacterTextSplitter(chunk_size=5, chunk_overlap=0)\n",
    "text = text_splitter.split_text(text)\n",
    "text"
   ]
  },
  {
   "cell_type": "code",
   "execution_count": null,
   "metadata": {},
   "outputs": [],
   "source": [
    "from langchain.embeddings import OpenAIEmbeddings\n",
    "from langchain.llms import AzureOpenAI\n",
    "from langchain.chains import RetrievalQA\n",
    "from langchain.vectorstores import Chroma\n",
    "\n",
    "embeddings = OpenAIEmbeddings()\n",
    "vectorstore = Chroma.from_texts(text, embeddings)\n",
    "chain = RetrievalQA.from_chain_type(llm = AzureOpenAI(\n",
    "    deployment_name=\"embeddingada002\",\n",
    "    model_name=\"text-embedding-ada-002\",\n",
    "))"
   ]
  },
  {
   "cell_type": "code",
   "execution_count": null,
   "metadata": {},
   "outputs": [],
   "source": [
    "query = \"Where does homeless person stays?\"\n",
    "chain.run(query)"
   ]
  },
  {
   "cell_type": "code",
   "execution_count": null,
   "metadata": {},
   "outputs": [],
   "source": [
    "from langchain.chains import RetrievalQA\n",
    "from langchain.document_loaders import TextLoader\n",
    "from langchain.text_splitter import CharacterTextSplitter\n",
    "from langchain.embeddings import OpenAIEmbeddings\n",
    "from langchain.vectorstores import Chroma\n",
    "from langchain.chat_models import AzureChatOpenAI\n",
    "from langchain.schema import HumanMessage\n",
    "\n",
    "BASE_URL = \"https://mtcaichat01.openai.azure.com\"\n",
    "API_KEY = \"824fe43e851f4862af326fa83c3d3cfe\"\n",
    "DEPLOYMENT_NAME = \"gpt354k\"\n",
    "llm = AzureOpenAI(\n",
    "    openai_api_base=BASE_URL,\n",
    "    openai_api_version=\"2023-03-15-preview\",\n",
    "    deployment_name=DEPLOYMENT_NAME,\n",
    "    openai_api_key=API_KEY,\n",
    "    openai_api_type = \"azure\",\n",
    ")\n",
    "#Proof that LLM is working without Indexing/embedding features.\n",
    "print(\"----------------------------\")\n",
    "print(llm(\"Tell me a joke\"))\n",
    "print(\"----------------------------\")\n",
    "\n",
    "loader = TextLoader('CauseAndEffectOfHomelessness.txt', encoding='utf8')\n",
    "documents = loader.load()\n",
    "text_splitter = CharacterTextSplitter(chunk_size=1000, chunk_overlap=0)\n",
    "texts = text_splitter.split_documents(documents)\n",
    "embeddings = OpenAIEmbeddings()\n",
    "db = Chroma.from_documents(texts, embeddings)\n",
    "retriever = db.as_retriever()\n",
    "qa = RetrievalQA.from_chain_type(llm=llm, chain_type=\"stuff\", retriever=retriever)\n",
    "query = \"What did the president say about Ketanji Brown Jackson\"\n",
    "qa.run(query)"
   ]
  }
 ],
 "metadata": {
  "kernelspec": {
   "display_name": "Python 3",
   "language": "python",
   "name": "python3"
  },
  "language_info": {
   "codemirror_mode": {
    "name": "ipython",
    "version": 3
   },
   "file_extension": ".py",
   "mimetype": "text/x-python",
   "name": "python",
   "nbconvert_exporter": "python",
   "pygments_lexer": "ipython3",
   "version": "3.10.4"
  },
  "orig_nbformat": 4
 },
 "nbformat": 4,
 "nbformat_minor": 2
}
