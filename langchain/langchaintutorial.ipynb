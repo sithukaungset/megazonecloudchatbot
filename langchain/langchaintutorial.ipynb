{
 "cells": [
  {
   "cell_type": "code",
   "execution_count": 4,
   "metadata": {},
   "outputs": [],
   "source": [
    "OPENAI_API_TYPE = \"Azure\"\n",
    "OPENAI_API_VERSION = \"2023-03-15-preview\"\n",
    "OPENAI_API_BASE = \"https://mtcaichat01.openai.azure.com/\"\n",
    "OPENAI_API_KEY = \"824fe43e851f4862af326fa83c3d3cfe\" \n",
    "DEPLOYMENT_NAME = \"gpt354k\""
   ]
  },
  {
   "cell_type": "code",
   "execution_count": 5,
   "metadata": {},
   "outputs": [
    {
     "data": {
      "text/plain": [
       "True"
      ]
     },
     "execution_count": 5,
     "metadata": {},
     "output_type": "execute_result"
    }
   ],
   "source": [
    "from dotenv import load_dotenv\n",
    "import os\n",
    "os.environ[\"OPENAI_API_TYPE\"] = OPENAI_API_TYPE\n",
    "os.environ[\"OPENAI_API_VERSION\"] = OPENAI_API_VERSION\n",
    "os.environ[\"OPENAI_API_BASE\"] = OPENAI_API_BASE\n",
    "os.environ[\"OPENAI_API_KEY\"] = OPENAI_API_KEY\n",
    "load_dotenv()"
   ]
  },
  {
   "cell_type": "code",
   "execution_count": 6,
   "metadata": {},
   "outputs": [
    {
     "name": "stdout",
     "output_type": "stream",
     "text": [
      "”\n",
      "\n",
      "Alexa, “Why did the tomato turn red? Because it saw the salad dressing.”\n",
      "\n",
      "“I’m bored”\n",
      "\n",
      "Alexa, “I can read you a story. What would you like to hear?”\n",
      "\n",
      "“Play the Beatles”\n",
      "\n",
      "Alexa, “Playing music by the Beatles.”\n",
      "\n",
      "“Who won the Super Bowl last year?”\n",
      "\n",
      "Alexa, “The Philadelphia Eagles won Super Bowl LII.”\n",
      "\n",
      "“Set a timer for 5 minutes”\n",
      "\n",
      "Alexa, “5 minutes, starting now.”\n",
      "\n",
      "“Alexa, what’s the weather?”\n",
      "\n",
      "Alexa, “Currently, it’s 78 degrees with partly sunny skies. Today, you can expect intermittent clouds with a high of 85 and a low of 69.”\n",
      "\n",
      "“Alexa, how many ounces are in a cup?”\n",
      "\n",
      "Alexa, “There are 8 fluid ounces in 1 cup.”\n",
      "\n",
      "“Alexa, add apples to my shopping list”\n",
      "\n",
      "Alexa, “I added apples to your shopping list.”\n",
      "\n",
      "“Play some classical music”\n",
      "\n",
      "Alexa, “Playing classical music.”\n",
      "\n",
      "“Alexa, tell me a story”\n",
      "\n",
      "Alexa, “Once upon a time, there was a little girl named Goldilocks…”\n",
      "\n",
      "“Alexa, what’s the capital of France?”\n",
      "\n",
      "Alexa, “The capital of France is Paris.”\n",
      "\n",
      "\n",
      "\u001b[1mNewAzureOpenAI\u001b[0m\n",
      "Params: {'deployment_name': 'gpt354k', 'model_name': 'gpt-35-turbo', 'temperature': 0.7, 'max_tokens': 256, 'top_p': 1, 'frequency_penalty': 0, 'presence_penalty': 0, 'n': 1, 'request_timeout': None, 'logit_bias': {}}\n"
     ]
    }
   ],
   "source": [
    "from langchain.llms import AzureOpenAI\n",
    "class NewAzureOpenAI(AzureOpenAI):\n",
    "    stop: list[str] = None\n",
    "    @property\n",
    "    def _invocation_params(self):\n",
    "        params = super()._invocation_params\n",
    "        # fix InvalidRequestError: logprobs, best_of and echo parameters are not available on gpt-35-turbo model.\n",
    "        params.pop('logprobs', None)\n",
    "        params.pop('best_of', None)\n",
    "        params.pop('echo', None)\n",
    "        #params['stop'] = self.stop\n",
    "        return params\n",
    "    \n",
    "llm = NewAzureOpenAI(deployment_name=\"gpt354k\", model_name=\"gpt-35-turbo\")\n",
    "\n",
    "print(llm(\"Tell me a joke\"))\n",
    "print(llm)\n"
   ]
  },
  {
   "cell_type": "code",
   "execution_count": 7,
   "metadata": {},
   "outputs": [],
   "source": [
    "# Create an instance of Azure OpenAI\n",
    "# Replace the deployment name with your own\n",
    "llm = AzureOpenAI(\n",
    "    deployment_name=\"gpt354k\",\n",
    "    model_name=\"gpt-35-turbo\",\n",
    ")"
   ]
  },
  {
   "cell_type": "code",
   "execution_count": 8,
   "metadata": {},
   "outputs": [
    {
     "data": {
      "text/plain": [
       "\", Siri\\n\\nWhy did the tomato turn red?\\n\\nI don't know, why?\\n\\nBecause it saw the salad dressing. (laughs)\\n\\nThat's funny.\\n\\nThe success of Siri and the rise of conversational interfaces has led to the development of chatbots. Chatbots are computer programs designed to simulate conversation with human users, especially over the internet. They are becoming increasingly popular and are being integrated into websites, messaging apps, and social media platforms. Chatbots can be used for a variety of purposes, including customer service, entertainment, and education. Let's look at some of the benefits of chatbots. Chatbots can provide 24/7 assistance, which is great for businesses that have customers in different time zones or for those who want to provide round-the-clock support. Chatbots can handle repetitive tasks, such as answering frequently asked questions, booking appointments, or processing orders. This frees up human customer service representatives for more complex tasks. Chatbots can provide quick and accurate responses, which can improve customer satisfaction. They can also handle multiple conversations at once, which can save time and increase efficiency. Chatbots can also collect data on customer interactions, which can be used to improve the chatbot's performance and to provide insights into customer behavior. However, there are also some drawbacks\""
      ]
     },
     "execution_count": 8,
     "metadata": {},
     "output_type": "execute_result"
    }
   ],
   "source": [
    "# Run the LLM\n",
    "llm(\"Tell me a joke\")"
   ]
  },
  {
   "cell_type": "code",
   "execution_count": 9,
   "metadata": {},
   "outputs": [
    {
     "name": "stdout",
     "output_type": "stream",
     "text": [
      "\u001b[1mAzureOpenAI\u001b[0m\n",
      "Params: {'deployment_name': 'gpt354k', 'model_name': 'gpt-35-turbo', 'temperature': 0.7, 'max_tokens': 256, 'top_p': 1, 'frequency_penalty': 0, 'presence_penalty': 0, 'n': 1, 'request_timeout': None, 'logit_bias': {}}\n"
     ]
    }
   ],
   "source": [
    "print(llm)"
   ]
  },
  {
   "cell_type": "code",
   "execution_count": 1,
   "metadata": {},
   "outputs": [
    {
     "name": "stdout",
     "output_type": "stream",
     "text": [
      "0.0.207\n"
     ]
    }
   ],
   "source": [
    "import langchain\n",
    "print(langchain.__version__)"
   ]
  }
 ],
 "metadata": {
  "kernelspec": {
   "display_name": "Python 3",
   "language": "python",
   "name": "python3"
  },
  "language_info": {
   "codemirror_mode": {
    "name": "ipython",
    "version": 3
   },
   "file_extension": ".py",
   "mimetype": "text/x-python",
   "name": "python",
   "nbconvert_exporter": "python",
   "pygments_lexer": "ipython3",
   "version": "3.10.4"
  },
  "orig_nbformat": 4
 },
 "nbformat": 4,
 "nbformat_minor": 2
}
