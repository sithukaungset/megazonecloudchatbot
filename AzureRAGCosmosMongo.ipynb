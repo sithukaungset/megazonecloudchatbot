{
 "cells": [
  {
   "cell_type": "code",
   "execution_count": 1,
   "metadata": {},
   "outputs": [],
   "source": [
    "# To leverage sample dataset stored in Azure Cosmos DB for MongoDB vCore to ground OpenAI models by using Mongo DB vector similarity search functionality\n",
    "# Create a chat session with GPT 3.5 completions model to answer questions about Azure services informed by dataset\n"
   ]
  },
  {
   "cell_type": "code",
   "execution_count": 2,
   "metadata": {},
   "outputs": [],
   "source": [
    "import json\n",
    "import datetime\n",
    "import time\n",
    "\n",
    "from azure.core.exceptions import AzureError\n",
    "from azure.core.credentials import AzureKeyCredential\n",
    "import pymongo\n",
    "\n",
    "import openai\n",
    "from dotenv import load_dotenv\n",
    "from tenacity import retry, wait_random_exponential, stop_after_attempt"
   ]
  },
  {
   "cell_type": "code",
   "execution_count": null,
   "metadata": {},
   "outputs": [],
   "source": [
    "from dotenv import dotenv_values\n",
    "\n",
    "# specify the name of the .env file name\n",
    "env_name = \"llm.env\" # following example.env template change to our own .env file name\n",
    "config = dotenv_values(env_name)\n",
    "\n",
    "cosmosdb_endpoint = config[\"cosmos_db_api_endpoint\"]\n",
    "cosmosdb_key = config[\"cosmos_db_api_key\"]\n",
    "cosmosdb_connection_str = config['cosmos_db_connection_string']\n",
    "\n",
    "COSMOS_MONGO_USER = config['cosmos_db_mongo_user']\n",
    "COSMOS_MONGO_PWD = config['cosmos_db_mongo_pwd']\n",
    "COSMOS_MONGO_SERVER = config['cosmos_db_mongo_server']\n",
    "\n",
    "openai.api_type = config['openai_api_type']\n",
    "openai.api_key = config['openai_api_key']\n",
    "openai.api_base = config['openai_api_endpoint']\n",
    "openai.api_version = config['openai_api_version']\n",
    "embeddings_deployment = config['openai_embeddings_deployment']\n",
    "completions_deployment = config['openai_completions_deployment']\n"
   ]
  },
  {
   "cell_type": "code",
   "execution_count": null,
   "metadata": {},
   "outputs": [],
   "source": [
    "# Creat an Azure Cosmos DB for MongoDB vCore resource\n",
    "# Load data and create embeddings\n",
    "\n",
    "# Load text-sample.json data file\n",
    "data_file = open(file=\"../../Dataset/AzureServices/text-sample.json\", mode=\"r\")\n",
    "#data_file = open(file=\"../../DataSet/AzureServices/text-sample_w_embeddings.json\", mode=\"r\") # load this file instead if embeddings were previously created and saved.\n",
    "data = json.load(data_file)\n",
    "data_file.close()"
   ]
  },
  {
   "cell_type": "code",
   "execution_count": null,
   "metadata": {},
   "outputs": [],
   "source": [
    "# Take a peek at one data item\n",
    "print(data[0])\n"
   ]
  },
  {
   "cell_type": "code",
   "execution_count": null,
   "metadata": {},
   "outputs": [],
   "source": [
    "@retry(wait=wait_random_exponential(min=1, max=20), stop=stop_after_attempt(10))\n",
    "def generate_embeddings(text):\n",
    "    '''\n",
    "    Generate embeddings from string of text\n",
    "    This will be used to vectorize data and user input for interactions with Azure OpenAI.\n",
    "    '''\n",
    "    response = openai.Embedding.create(\n",
    "        input=text, engine=\"text-embedding-ada-002\"\n",
    "    embeddings = response['data'][0]['embedding']\n",
    "    time.sleep(0.5) # rest period to avoid rate limiting on AOAI for free tier\n",
    "    return embeddings\n",
    "    )"
   ]
  },
  {
   "cell_type": "code",
   "execution_count": null,
   "metadata": {},
   "outputs": [],
   "source": [
    "# Genearte embeddings for title and content fields\n",
    "n = 0\n",
    "for item in data:\n",
    "    n+=1\n",
    "    title = item['title']\n",
    "    content = item['content']\n",
    "    title_embeddings = generate_embeddings(title)\n",
    "    content_embeddings = generate_embeddings(content)\n",
    "    item['titleVector'] = title_embeddings\n",
    "    item['contentVector'] = content_embeddings\n",
    "    item['@search.action'] = 'upload'\n",
    "    print(\"Creating embeddings for item:\", n, \"/\", len(data), end='\\r')\n",
    "\n",
    "# Save embeddings to sample_text_w_embeddings.json file\n",
    "with open(\"../../DataSet/AzureServices/text-sample_w_embeddings.json\", \"w\") as f:\n",
    "    json.dump(data, f)"
   ]
  },
  {
   "cell_type": "code",
   "execution_count": null,
   "metadata": {},
   "outputs": [],
   "source": [
    "#Connect and set up Cosmos DB for MongoDB vCore \n",
    "# Set up the connection\n",
    "\n",
    "mongo_conn = \"mongodb+srv://\"+COSMOS_MONGO_USER+\":\"+COSMOS_MONGO_PWD+\"@\"+COSMOS_MONGO_SERVER+\"?tls=true&authMechanism=SCRAM-SHA-256&retrywrites=false&maxIdleTimeMS=120000\"\n",
    "mongo_client = pymongo.MongoClient(mongo_conn)\n"
   ]
  },
  {
   "cell_type": "code",
   "execution_count": null,
   "metadata": {},
   "outputs": [],
   "source": [
    "# Set up the DB and collection \n",
    "\n",
    "# create a database called TutorialDB\n",
    "db = mongo_client['TutorialDB']\n",
    "\n",
    "# Create collection if it doesn't exist\n",
    "COLLECTION_NAME = \"TutorialCol\"\n",
    "\n",
    "collection = db[COLLECTION_NAME]\n",
    "\n",
    "if COLLECTION_NAME not in db.list_collection_names():\n",
    "    # Creates a unsharded collection that uses the DBs shared throughput\n",
    "    db.create_collection(COLLECTION_NAME)\n",
    "    print(\"Created collection '{}'.\\n\".format(COLLECTION_NAME))\n",
    "else:\n",
    "    print(\"Using collection: '{}'.\\n\".format(COLLECTION_NAME))"
   ]
  },
  {
   "cell_type": "code",
   "execution_count": null,
   "metadata": {},
   "outputs": [],
   "source": [
    "# Create the vector index \n",
    "db.command({\n",
    "  'createIndexes': 'TutorialCol',\n",
    "  'indexes': [\n",
    "    {\n",
    "      'name': 'vectorSearchIndex',\n",
    "      'key': {\n",
    "        \"contentVector\": \"cosmosSearch\"\n",
    "      },\n",
    "      'cosmosSearchOptions': {\n",
    "        'kind': 'vector-ivf',\n",
    "        'numLists': 1,\n",
    "        'similarity': 'COS',\n",
    "        'dimensions': 1536\n",
    "      }\n",
    "    }\n",
    "  ]\n",
    "});"
   ]
  },
  {
   "cell_type": "code",
   "execution_count": null,
   "metadata": {},
   "outputs": [],
   "source": [
    "# Update data to the collection\n",
    "# A simple insert_many() to insert our data in JSON format into the newly created DB and collection\n",
    "collection.insert_many(data)\n"
   ]
  },
  {
   "cell_type": "code",
   "execution_count": null,
   "metadata": {},
   "outputs": [],
   "source": [
    "def ask_question(query, nr_of_results=1):\n",
    "    query = generate_embeddings(query)\n",
    "    embeddings_list = []\n",
    "    pipeline = [\n",
    "        {\n",
    "            '$search': {\n",
    "                \"cosmosSearch\": {\n",
    "                    \"vector\": question_embeddings,\n",
    "                    \"path\": \"contentVector\",\n",
    "                    \"k\": nr_of_results\n",
    "                },\n",
    "                \"returnStoredSource\": True\n",
    "            }\n",
    "        }\n",
    "    ]\n",
    "    results = collection.aggregate(pipeline)\n",
    "    for item in results:\n",
    "        print(item['title'])\n",
    "        print(item['content'])\n",
    "        print(\"\\n\")"
   ]
  },
  {
   "cell_type": "code",
   "execution_count": null,
   "metadata": {},
   "outputs": [],
   "source": [
    "# Vector Search in Cosmos DB for MongoDB vCore\n",
    "# Simple function to assist with vector search\n",
    "def vector_search(query, num_results=1):\n",
    "    query_embedding = generate_embeddings(query)\n",
    "    embeddings_list = []\n",
    "    pipeline = [\n",
    "        {\n",
    "            '$search': {\n",
    "                \"cosmosSearch\": {\n",
    "                    \"vector\": query_embedding,\n",
    "                    \"path\": \"contentVector\",\n",
    "                    \"k\": num_results\n",
    "                },\n",
    "                \"returnStoredSource\": True\n",
    "            }\n",
    "        }\n",
    "    ]\n",
    "    results = collection.aggregate(pipeline)\n",
    "    return results"
   ]
  },
  {
   "cell_type": "code",
   "execution_count": null,
   "metadata": {},
   "outputs": [],
   "source": [
    "query = \"tools for software development\"  \n",
    "results = vector_search(query)\n",
    "for result in results:  \n",
    "    print(f\"Title: {result['title']}\")  \n",
    "    print(f\"Content: {result['content']}\")  \n",
    "    print(f\"Category: {result['category']}\\n\")  "
   ]
  },
  {
   "cell_type": "code",
   "execution_count": null,
   "metadata": {},
   "outputs": [],
   "source": [
    "# Q and A over the data with GPT-3.5\n",
    "# To feed prompt into the Completions model. Then we will create interactive loop where we can pose questions to the model and receive information grounded in our data\n",
    "# This function helps\n",
    "def generate_completion(prompt):\n",
    "    system_prompt = '''\n",
    "    You are an intelligent assistant for Microsoft Azure services.\n",
    "    You are designed to provide helpful answers to user questions about Azure services given the information about to be provided.\n",
    "        - Only answer questions related to the information provided below, provide 3 clear suggestions in a list format.\n",
    "        - Write two lines of whitespace between each answer in the list.\n",
    "        - Only provide answers that have products that are part of Microsoft Azure.\n",
    "        - If you're unsure of an answer, you can say \"\"I don't know\"\" or \"\"I'm not sure\"\" and recommend users search themselves.\"\n",
    "    '''\n",
    "\n",
    "    messages=[\n",
    "        {\"role\": \"system\", \"content\": system_prompt},\n",
    "        {\"role\": \"user\", \"content\": user_input},\n",
    "    ]\n",
    "\n",
    "    for item in results:\n",
    "        messages.append({\"role\": \"system\", \"content\": prompt['content']})\n",
    "\n",
    "    response = openai.ChatCompletion.create(engine=completions_deployment, messages=messages)\n",
    "    \n",
    "    return response\n",
    "                                                                                                                                   "
   ]
  },
  {
   "cell_type": "code",
   "execution_count": null,
   "metadata": {},
   "outputs": [],
   "source": [
    "# Create a loop of user input and model output. You can now perform Q&A over the sample data!\n",
    "\n",
    "user_input = \"\"\n",
    "print(\"*** Please ask your model questions about Azure services. Type 'end' to end the session.\\n\")\n",
    "user_input = input(\"Prompt: \")\n",
    "while user_input.lower() != \"end\":\n",
    "    results_for_prompt = vector_search(user_input)\n",
    "    completions_results = generate_completion(results_for_prompt)\n",
    "    print(\"\\n\")\n",
    "    print(completions_results['choices'][0]['message']['content'])\n",
    "    user_input = input(\"Prompt: \")"
   ]
  }
 ],
 "metadata": {
  "kernelspec": {
   "display_name": "Python 3",
   "language": "python",
   "name": "python3"
  },
  "language_info": {
   "codemirror_mode": {
    "name": "ipython",
    "version": 3
   },
   "file_extension": ".py",
   "mimetype": "text/x-python",
   "name": "python",
   "nbconvert_exporter": "python",
   "pygments_lexer": "ipython3",
   "version": "3.11.5"
  },
  "orig_nbformat": 4
 },
 "nbformat": 4,
 "nbformat_minor": 2
}
