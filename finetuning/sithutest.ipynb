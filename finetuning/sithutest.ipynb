{
 "cells": [
  {
   "cell_type": "code",
   "execution_count": 2,
   "metadata": {},
   "outputs": [
    {
     "name": "stdout",
     "output_type": "stream",
     "text": [
      "Generating the training file: trainingai.jsonl\n",
      "Copying the training file to the validation file\n"
     ]
    },
    {
     "name": "stderr",
     "output_type": "stream",
     "text": [
      "Upload progress: 100%|██████████| 198/198 [00:00<00:00, 171kit/s]\n"
     ]
    },
    {
     "name": "stdout",
     "output_type": "stream",
     "text": [
      "Uploaded file from trainingai.jsonl: file-09cb91a9b5c74d35b7b0401356f7b843\n"
     ]
    },
    {
     "name": "stderr",
     "output_type": "stream",
     "text": [
      "Upload progress: 100%|██████████| 198/198 [00:00<00:00, 241kit/s]\n"
     ]
    },
    {
     "name": "stdout",
     "output_type": "stream",
     "text": [
      "Uploaded file from validationai.jsonl: file-b8e71c18538c4979bcd78983e61d34ab\n",
      "Status (training_file | validation_file): notRunning | notRunning\n",
      "Status (training_file | validation_file): running | running\n",
      "Status (training_file | validation_file): running | running\n",
      "Status (training_file | validation_file): running | succeeded\n",
      "Status (training_file | validation_file): succeeded | succeeded\n"
     ]
    }
   ],
   "source": [
    "import openai\n",
    "from openai import cli\n",
    "import time\n",
    "import shutil\n",
    "import json\n",
    "\n",
    "# Remember to remove your key from your code when you're done.\n",
    "openai.api_key = \"824fe43e851f4862af326fa83c3d3cfe\"\n",
    "# Your resource endpoint should look like the following:\n",
    "# https://YOUR_RESOURCE_NAME.openai.azure.com/\n",
    "openai.api_base =  \"https://mtcaichat01.openai.azure.com\" \n",
    "openai.api_type = 'azure'\n",
    "# The API version may change in the future.\n",
    "openai.api_version = '2023-03-15-preview'\n",
    "\n",
    "training_file_name = 'trainingai.jsonl'\n",
    "validation_file_name = 'validationai.jsonl'\n",
    "\n",
    "sample_data = [{\"prompt\": \"When I go to the store, I want an\", \"completion\": \"apple\"},\n",
    "    {\"prompt\": \"When I go to work, I want a\", \"completion\": \"coffee\"},\n",
    "    {\"prompt\": \"When I go home, I want a\", \"completion\": \"soda\"}]\n",
    "\n",
    "# Generate the training dataset file.\n",
    "print(f'Generating the training file: {training_file_name}')\n",
    "with open(training_file_name, 'w') as training_file:\n",
    "    for entry in sample_data:\n",
    "        json.dump(entry, training_file)\n",
    "        training_file.write('\\n')\n",
    "\n",
    "# Copy the validation dataset file from the training dataset file.\n",
    "# Typically, your training data and validation data should be mutually exclusive.\n",
    "# For the purposes of this example, we're using the same data.\n",
    "print(f'Copying the training file to the validation file')\n",
    "shutil.copy(training_file_name, validation_file_name)\n",
    "\n",
    "def check_status(training_id, validation_id):\n",
    "    train_status = openai.File.retrieve(training_id)[\"status\"]\n",
    "    valid_status = openai.File.retrieve(validation_id)[\"status\"]\n",
    "    print(f'Status (training_file | validation_file): {train_status} | {valid_status}')\n",
    "    return (train_status, valid_status)\n",
    "\n",
    "# Upload the training and validation dataset files to Azure OpenAI.\n",
    "training_id = cli.FineTune._get_or_upload(training_file_name, True)\n",
    "validation_id = cli.FineTune._get_or_upload(validation_file_name, True)\n",
    "\n",
    "# Check on the upload status of the training and validation dataset files.\n",
    "(train_status, valid_status) = check_status(training_id, validation_id)\n",
    "\n",
    "# Poll and display the upload status once a second until both files have either\n",
    "# succeeded or failed to upload.\n",
    "while train_status not in [\"succeeded\", \"failed\"] or valid_status not in [\"succeeded\", \"failed\"]:\n",
    "    time.sleep(1)\n",
    "    (train_status, valid_status) = check_status(training_id, validation_id)"
   ]
  },
  {
   "cell_type": "code",
   "execution_count": 1,
   "metadata": {},
   "outputs": [
    {
     "ename": "NameError",
     "evalue": "name 'training_id' is not defined",
     "output_type": "error",
     "traceback": [
      "\u001b[0;31m---------------------------------------------------------------------------\u001b[0m",
      "\u001b[0;31mNameError\u001b[0m                                 Traceback (most recent call last)",
      "Cell \u001b[0;32mIn[1], line 5\u001b[0m\n\u001b[1;32m      1\u001b[0m \u001b[39m# This example defines a fine-tune job that creates a customized model based on curie, \u001b[39;00m\n\u001b[1;32m      2\u001b[0m \u001b[39m# with just a single pass through the training data. The job also provides classification-\u001b[39;00m\n\u001b[1;32m      3\u001b[0m \u001b[39m# specific metrics, using our validation data, at the end of that epoch.\u001b[39;00m\n\u001b[1;32m      4\u001b[0m create_args \u001b[39m=\u001b[39m {\n\u001b[0;32m----> 5\u001b[0m     \u001b[39m\"\u001b[39m\u001b[39mtraining_file\u001b[39m\u001b[39m\"\u001b[39m: training_id,\n\u001b[1;32m      6\u001b[0m     \u001b[39m\"\u001b[39m\u001b[39mvalidation_file\u001b[39m\u001b[39m\"\u001b[39m: validation_id,\n\u001b[1;32m      7\u001b[0m     \u001b[39m\"\u001b[39m\u001b[39mmodel\u001b[39m\u001b[39m\"\u001b[39m: \u001b[39m\"\u001b[39m\u001b[39mada\u001b[39m\u001b[39m\"\u001b[39m,\n\u001b[1;32m      8\u001b[0m     \u001b[39m\"\u001b[39m\u001b[39mn_epochs\u001b[39m\u001b[39m\"\u001b[39m: \u001b[39m1\u001b[39m,\n\u001b[1;32m      9\u001b[0m     \u001b[39m\"\u001b[39m\u001b[39mcompute_classification_metrics\u001b[39m\u001b[39m\"\u001b[39m: \u001b[39mTrue\u001b[39;00m,\n\u001b[1;32m     10\u001b[0m     \u001b[39m\"\u001b[39m\u001b[39mclassification_n_classes\u001b[39m\u001b[39m\"\u001b[39m: \u001b[39m3\u001b[39m\n\u001b[1;32m     11\u001b[0m }\n\u001b[1;32m     12\u001b[0m \u001b[39m# Create the fine-tune job and retrieve the job ID\u001b[39;00m\n\u001b[1;32m     13\u001b[0m \u001b[39m# and status from the response.\u001b[39;00m\n\u001b[1;32m     14\u001b[0m resp \u001b[39m=\u001b[39m openai\u001b[39m.\u001b[39mFineTune\u001b[39m.\u001b[39mcreate(\u001b[39m*\u001b[39m\u001b[39m*\u001b[39mcreate_args)\n",
      "\u001b[0;31mNameError\u001b[0m: name 'training_id' is not defined"
     ]
    }
   ],
   "source": [
    "# This example defines a fine-tune job that creates a customized model based on curie, \n",
    "# with just a single pass through the training data. The job also provides classification-\n",
    "# specific metrics, using our validation data, at the end of that epoch.\n",
    "create_args = {\n",
    "    \"training_file\": training_id,\n",
    "    \"validation_file\": validation_id,\n",
    "    \"model\": \"ada\",\n",
    "    \"n_epochs\": 1,\n",
    "    \"compute_classification_metrics\": True,\n",
    "    \"classification_n_classes\": 3\n",
    "}\n",
    "# Create the fine-tune job and retrieve the job ID\n",
    "# and status from the response.\n",
    "resp = openai.FineTune.create(**create_args)\n",
    "job_id = resp[\"id\"]\n",
    "status = resp[\"status\"]\n",
    "\n",
    "# You can use the job ID to monitor the status of the fine-tune job.\n",
    "# The fine-tune job may take some time to start and complete.\n",
    "print(f'Fine-tuning model with job ID: {job_id}.')"
   ]
  },
  {
   "cell_type": "code",
   "execution_count": null,
   "metadata": {},
   "outputs": [],
   "source": [
    "# Get the status of our fine-tune job.\n",
    "status = openai.FineTune.retrieve(id=job_id)[\"status\"]\n",
    "\n",
    "# If the job isn't yet done, poll it every 2 seconds.\n",
    "if status not in [\"succeeded\", \"failed\"]:\n",
    "    print(f'Job not in terminal status: {status}. Waiting.')\n",
    "    while status not in [\"succeeded\", \"failed\"]:\n",
    "        time.sleep(2)\n",
    "        status = openai.FineTune.retrieve(id=job_id)[\"status\"]\n",
    "        print(f'Status: {status}')\n",
    "else:\n",
    "    print(f'Fine-tune job {job_id} finished with status: {status}')\n",
    "\n",
    "# Check if there are other fine-tune jobs in the subscription. \n",
    "# Your fine-tune job may be queued, so this is helpful information to have\n",
    "# if your fine-tune job hasn't yet started.\n",
    "print('Checking other fine-tune jobs in the subscription.')\n",
    "result = openai.FineTune.list()\n",
    "print(f'Found {len(result)} fine-tune jobs.')"
   ]
  }
 ],
 "metadata": {
  "kernelspec": {
   "display_name": "Python 3",
   "language": "python",
   "name": "python3"
  },
  "language_info": {
   "codemirror_mode": {
    "name": "ipython",
    "version": 3
   },
   "file_extension": ".py",
   "mimetype": "text/x-python",
   "name": "python",
   "nbconvert_exporter": "python",
   "pygments_lexer": "ipython3",
   "version": "3.10.4"
  },
  "orig_nbformat": 4
 },
 "nbformat": 4,
 "nbformat_minor": 2
}
